{
 "cells": [
  {
   "cell_type": "code",
   "execution_count": 1,
   "id": "36a199e9-740f-45d3-acc3-397e35ba27da",
   "metadata": {},
   "outputs": [
    {
     "name": "stdout",
     "output_type": "stream",
     "text": [
      "<Client: 'tcp://172.31.36.115:8786' processes=9 threads=11, memory=28.93 GiB>\n"
     ]
    },
    {
     "name": "stderr",
     "output_type": "stream",
     "text": [
      "/home/ubuntu/client/lib/python3.12/site-packages/distributed/client.py:1612: VersionMismatchWarning: Mismatched versions found\n",
      "\n",
      "+---------+--------+-----------+-----------------+\n",
      "| Package | Client | Scheduler | Workers         |\n",
      "+---------+--------+-----------+-----------------+\n",
      "| numpy   | 2.1.3  | 2.2.3     | 2.2.3           |\n",
      "| pandas  | 2.2.3  | 2.2.3     | {None, '2.2.3'} |\n",
      "+---------+--------+-----------+-----------------+\n",
      "  warnings.warn(version_module.VersionMismatchWarning(msg[0][\"warning\"]))\n"
     ]
    }
   ],
   "source": [
    "# loading distributed dask libs\n",
    "from dask.distributed import Client\n",
    "#import dask.bag as db \n",
    "from dask import bag as db \n",
    "# lets connect to scheduler of dask cluster\n",
    "# we are in client machine \n",
    "ashu_client = Client(\"tcp://172.31.36.115:8786\")\n",
    "print(ashu_client)"
   ]
  },
  {
   "cell_type": "code",
   "execution_count": 2,
   "id": "72ca0611-cd9f-48f6-9861-d2ef287cd5de",
   "metadata": {},
   "outputs": [
    {
     "name": "stdout",
     "output_type": "stream",
     "text": [
      "Initial Number of partitions:  3\n"
     ]
    }
   ],
   "source": [
    "# reading entire log directory as bag\n",
    "s3_path = \"s3://delvex-software-center/USGS/logs/*.txt\"\n",
    "ashu_bag = db.read_text(s3_path ,storage_options={\"anon\": True}) # by default dask will consider asking creds\n",
    "\n",
    "# checking number of partitions which is decide by Dask BAG internally \n",
    "print(\"Initial Number of partitions: \",ashu_bag.npartitions)"
   ]
  },
  {
   "cell_type": "code",
   "execution_count": 4,
   "id": "a6b4c4e1-e243-4eab-bd5f-714e47f0621a",
   "metadata": {},
   "outputs": [
    {
     "name": "stdout",
     "output_type": "stream",
     "text": [
      "printing words with split lines\n",
      "[['INFO:', 'User', 'logged', 'in', 'successfully'], ['ERROR:', 'Database', 'connection', 'failed'], ['WARNING:', 'Memory', 'usage', 'is', 'high'], ['WARNING:', 'Memory', 'usage', 'is', 'high'], ['WARNING:', 'Memory', 'usage', 'is', 'high'], ['WARNING:', 'Memory', 'usage', 'is', 'high'], ['WARNING:', 'Memory', 'usage', 'is', 'high'], ['WARNING:', 'Memory', 'usage', 'is', 'high'], ['INFO:', 'Request', 'completed', 'in', '120ms'], ['INFO:', 'Request', 'completed', 'in', '120ms'], ['INFO:', 'Request', 'completed', 'in', '120ms'], ['ERROR:', 'Database', 'connection', 'failed'], ['ERROR:', 'Database', 'connection', 'failed'], ['ERROR:', 'Database', 'connection', 'failed'], ['INFO:', 'Request', 'completed', 'in', '120ms'], ['INFO:', 'Request', 'completed', 'in', '120ms'], ['INFO:', 'Request', 'completed', 'in', '120ms'], ['INFO:', 'Request', 'completed', 'in', '120ms'], ['INFO:', 'Request', 'completed', 'in', '120ms'], ['INFO:', 'Request', 'completed', 'in', '120ms'], ['INFO:', 'Request', 'completed', 'in', '120ms'], ['INFO:', 'Request', 'completed', 'in', '120ms'], ['INFO:', 'Request', 'completed', 'in', '120ms'], ['INFO:', 'Request', 'completed', 'in', '120ms'], ['INFO:', 'Request', 'completed', 'in', '120ms'], ['INFO:', 'Request', 'completed', 'in', '120ms'], ['WARNING:', 'Memory', 'usage', 'is', 'high'], ['WARNING:', 'Memory', 'usage', 'is', 'high'], ['WARNING:', 'Memory', 'usage', 'is', 'high'], ['WARNING:', 'Memory', 'usage', 'is', 'high'], ['WARNING:', 'Memory', 'usage', 'is', 'high'], ['INFO:', 'Request', 'completed', 'in', '120ms'], ['ERROR:', 'Failed', 'to', 'fetch', 'data', 'from', 'API'], ['INFO:', 'Cache', 'cleared', 'successfully'], ['DEBUG:', 'Response', 'time', 'is', 'within', 'limits'], ['ERROR:', 'User', 'authentication', 'failed'], ['DEBUG:', 'Response', 'time', 'is', 'within', 'limits'], ['DEBUG:', 'Response', 'time', 'is', 'within', 'limits'], ['DEBUG:', 'Response', 'time', 'is', 'within', 'limits'], ['INFO:', 'Cache', 'cleared', 'successfully'], ['INFO:', 'Cache', 'cleared', 'successfully'], ['ERROR:', 'Failed', 'to', 'fetch', 'data', 'from', 'API'], ['ERROR:', 'Failed', 'to', 'fetch', 'data', 'from', 'API'], ['ERROR:', 'Failed', 'to', 'fetch', 'data', 'from', 'API'], ['INFO:', 'Cache', 'cleared', 'successfully'], ['INFO:', 'Cache', 'cleared', 'successfully'], ['INFO:', 'Cache', 'cleared', 'successfully'], ['INFO:', 'Cache', 'cleared', 'successfully'], ['DEBUG:', 'Response', 'time', 'is', 'within', 'limits'], ['DEBUG:', 'Response', 'time', 'is', 'within', 'limits'], ['DEBUG:', 'Response', 'time', 'is', 'within', 'limits'], ['DEBUG:', 'Response', 'time', 'is', 'within', 'limits'], ['DEBUG:', 'Response', 'time', 'is', 'within', 'limits'], ['DEBUG:', 'Response', 'time', 'is', 'within', 'limits'], ['DEBUG:', 'Response', 'time', 'is', 'within', 'limits'], ['DEBUG:', 'Response', 'time', 'is', 'within', 'limits'], ['DEBUG:', 'Response', 'time', 'is', 'within', 'limits'], ['DEBUG:', 'Response', 'time', 'is', 'within', 'limits'], ['DEBUG:', 'Response', 'time', 'is', 'within', 'limits'], ['DEBUG:', 'Response', 'time', 'is', 'within', 'limits'], ['INFO:', 'Background', 'job', 'started'], ['ERROR:', 'Disk', 'quota', 'exceeded'], ['WARNING:', 'Low', 'disk', 'space'], ['INFO:', 'Scheduled', 'maintenance', 'in', 'progress'], ['ERROR:', 'Disk', 'quota', 'exceeded'], ['ERROR:', 'Disk', 'quota', 'exceeded'], ['INFO:', 'Background', 'job', 'started'], ['INFO:', 'Background', 'job', 'started'], ['WARNING:', 'Low', 'disk', 'space'], ['WARNING:', 'Low', 'disk', 'space'], ['WARNING:', 'Low', 'disk', 'space'], ['WARNING:', 'Low', 'disk', 'space'], ['WARNING:', 'Low', 'disk', 'space'], ['WARNING:', 'Low', 'disk', 'space'], ['INFO:', 'Background', 'job', 'started'], ['INFO:', 'Background', 'job', 'started'], ['INFO:', 'Background', 'job', 'started'], ['ERROR:', 'Disk', 'quota', 'exceeded'], ['ERROR:', 'Disk', 'quota', 'exceeded'], ['WARNING:', 'Low', 'disk', 'space'], ['WARNING:', 'Low', 'disk', 'space'], ['WARNING:', 'Low', 'disk', 'space'], ['WARNING:', 'Low', 'disk', 'space'], ['WARNING:', 'Low', 'disk', 'space'], ['WARNING:', 'Low', 'disk', 'space'], ['WARNING:', 'Low', 'disk', 'space'], []]\n"
     ]
    }
   ],
   "source": [
    "# using map reduce to do word count \n",
    "# step 1 split each lines into words\n",
    "words = ashu_bag.map(lambda line: line.split())\n",
    "# removing sublist which each is having list based word storage\n",
    "# final single list with all the words\n",
    "words2 = words.flatten()\n",
    "# using count word function in dask bag \n",
    "ashu_wc = words2.frequencies()\n",
    "print(\"printing final word counts \")\n",
    "print(ashu_wc.compute())\n"
   ]
  },
  {
   "cell_type": "code",
   "execution_count": null,
   "id": "c8e28664-f00a-4c4c-a73f-8d0a864bd18c",
   "metadata": {},
   "outputs": [],
   "source": []
  }
 ],
 "metadata": {
  "kernelspec": {
   "display_name": "Python 3 (ipykernel)",
   "language": "python",
   "name": "python3"
  },
  "language_info": {
   "codemirror_mode": {
    "name": "ipython",
    "version": 3
   },
   "file_extension": ".py",
   "mimetype": "text/x-python",
   "name": "python",
   "nbconvert_exporter": "python",
   "pygments_lexer": "ipython3",
   "version": "3.12.3"
  }
 },
 "nbformat": 4,
 "nbformat_minor": 5
}
