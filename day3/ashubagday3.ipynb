{
 "cells": [
  {
   "cell_type": "code",
   "execution_count": 1,
   "id": "4777ae8b-1f18-4696-b33e-3ba64d5e4708",
   "metadata": {},
   "outputs": [],
   "source": [
    "# loading distributed dask libs\n",
    "from dask.distributed import Client\n",
    "#import dask.bag as db \n",
    "from dask import bag as db "
   ]
  },
  {
   "cell_type": "code",
   "execution_count": 2,
   "id": "b730eb0e-eb40-4f31-aa21-023a47b222be",
   "metadata": {},
   "outputs": [
    {
     "name": "stdout",
     "output_type": "stream",
     "text": [
      "<Client: 'tcp://172.31.36.115:8786' processes=10 threads=12, memory=30.85 GiB>\n"
     ]
    },
    {
     "name": "stderr",
     "output_type": "stream",
     "text": [
      "/home/ubuntu/client/lib/python3.12/site-packages/distributed/client.py:1612: VersionMismatchWarning: Mismatched versions found\n",
      "\n",
      "+---------+--------+-----------+-----------------+\n",
      "| Package | Client | Scheduler | Workers         |\n",
      "+---------+--------+-----------+-----------------+\n",
      "| numpy   | 2.1.3  | 2.2.3     | 2.2.3           |\n",
      "| pandas  | 2.2.3  | 2.2.3     | {None, '2.2.3'} |\n",
      "+---------+--------+-----------+-----------------+\n",
      "  warnings.warn(version_module.VersionMismatchWarning(msg[0][\"warning\"]))\n"
     ]
    }
   ],
   "source": [
    "# lets connect to scheduler of dask cluster\n",
    "# we are in client machine \n",
    "ashu_client = Client(\"tcp://172.31.36.115:8786\")\n",
    "print(ashu_client)"
   ]
  },
  {
   "cell_type": "code",
   "execution_count": 9,
   "id": "f33080bb-8515-49dc-acd0-3e84b5b81fc8",
   "metadata": {},
   "outputs": [
    {
     "name": "stdout",
     "output_type": "stream",
     "text": [
      "['ERROR: Database connection failed\\n', 'ERROR: Database connection failed\\n', 'ERROR: Database connection failed\\n', 'ERROR: Database connection failed\\n', 'ERROR: Failed to fetch data from API\\n', 'ERROR: User authentication failed\\n', 'ERROR: Failed to fetch data from API\\n', 'ERROR: Failed to fetch data from API\\n', 'ERROR: Failed to fetch data from API\\n', 'ERROR: Disk quota exceeded\\n', 'ERROR: Disk quota exceeded\\n', 'ERROR: Disk quota exceeded\\n', 'ERROR: Disk quota exceeded\\n', 'ERROR: Disk quota exceeded\\n']\n"
     ]
    }
   ],
   "source": [
    "# loading data of logs which is unstructure data \n",
    "# reading entire log directory as bag\n",
    "s3_path = \"s3://delvex-software-center/USGS/logs/*.txt\"\n",
    "ashu_bag = db.read_text(s3_path ,storage_options={\"anon\": True}) # by default dask will consider asking creds\n",
    "# lets do filter using filter function in dask bag \n",
    "ashu_error_filterdata = ashu_bag.filter(lambda myline: \"ERROR\" in myline)\n",
    "# to display this result we need to call compute funcation in dask\n",
    "print(ashu_error_filterdata.compute())"
   ]
  },
  {
   "cell_type": "code",
   "execution_count": null,
   "id": "0408dc63-d529-4785-b8d9-6347505af909",
   "metadata": {},
   "outputs": [],
   "source": []
  }
 ],
 "metadata": {
  "kernelspec": {
   "display_name": "Python 3 (ipykernel)",
   "language": "python",
   "name": "python3"
  },
  "language_info": {
   "codemirror_mode": {
    "name": "ipython",
    "version": 3
   },
   "file_extension": ".py",
   "mimetype": "text/x-python",
   "name": "python",
   "nbconvert_exporter": "python",
   "pygments_lexer": "ipython3",
   "version": "3.12.3"
  }
 },
 "nbformat": 4,
 "nbformat_minor": 5
}
