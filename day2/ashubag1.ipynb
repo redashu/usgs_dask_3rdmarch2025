{
 "cells": [
  {
   "cell_type": "code",
   "execution_count": 1,
   "id": "8d9e0a7e-e243-44e0-94bf-a7411a6eb656",
   "metadata": {},
   "outputs": [
    {
     "name": "stdout",
     "output_type": "stream",
     "text": [
      "<Client: 'tcp://172.31.36.115:8786' processes=10 threads=12, memory=30.85 GiB>\n"
     ]
    },
    {
     "name": "stderr",
     "output_type": "stream",
     "text": [
      "/home/ubuntu/client/lib/python3.12/site-packages/distributed/client.py:1612: VersionMismatchWarning: Mismatched versions found\n",
      "\n",
      "+---------+--------+-----------+-----------------+\n",
      "| Package | Client | Scheduler | Workers         |\n",
      "+---------+--------+-----------+-----------------+\n",
      "| pandas  | 2.2.3  | 2.2.3     | {None, '2.2.3'} |\n",
      "+---------+--------+-----------+-----------------+\n",
      "  warnings.warn(version_module.VersionMismatchWarning(msg[0][\"warning\"]))\n"
     ]
    }
   ],
   "source": [
    "from dask.distributed import Client\n",
    "# using Client function to connect Scheduler endpoint \n",
    "client = Client(\"tcp://172.31.36.115:8786\")\n",
    "print(client)"
   ]
  },
  {
   "cell_type": "code",
   "execution_count": 2,
   "id": "57adf949-3461-4129-bcb5-e6f97021babb",
   "metadata": {},
   "outputs": [
    {
     "name": "stdout",
     "output_type": "stream",
     "text": [
      "range(1, 50)\n"
     ]
    }
   ],
   "source": [
    "# large data of list \n",
    "ashu_list = range(1,50)\n",
    "print(ashu_list)"
   ]
  },
  {
   "cell_type": "code",
   "execution_count": 3,
   "id": "9a448c64-6f36-46fe-a610-1e76cd234498",
   "metadata": {},
   "outputs": [],
   "source": [
    "# Creating bag from python List \n",
    "import dask.bag as db"
   ]
  },
  {
   "cell_type": "code",
   "execution_count": 5,
   "id": "a46f1451-b192-4e9b-988f-dc2d14f9e5f7",
   "metadata": {},
   "outputs": [
    {
     "name": "stdout",
     "output_type": "stream",
     "text": [
      "dask.bag<from_sequence, npartitions=2>\n"
     ]
    }
   ],
   "source": [
    "# creating from_sequence under db\n",
    "bag  = db.from_sequence(ashu_list,npartitions=2)\n",
    "print(bag)"
   ]
  },
  {
   "cell_type": "code",
   "execution_count": 6,
   "id": "2fb4f298-d5d0-4289-82fb-e98d4092e3e4",
   "metadata": {},
   "outputs": [
    {
     "data": {
      "text/plain": [
       "[1,\n",
       " 2,\n",
       " 3,\n",
       " 4,\n",
       " 5,\n",
       " 6,\n",
       " 7,\n",
       " 8,\n",
       " 9,\n",
       " 10,\n",
       " 11,\n",
       " 12,\n",
       " 13,\n",
       " 14,\n",
       " 15,\n",
       " 16,\n",
       " 17,\n",
       " 18,\n",
       " 19,\n",
       " 20,\n",
       " 21,\n",
       " 22,\n",
       " 23,\n",
       " 24,\n",
       " 25,\n",
       " 26,\n",
       " 27,\n",
       " 28,\n",
       " 29,\n",
       " 30,\n",
       " 31,\n",
       " 32,\n",
       " 33,\n",
       " 34,\n",
       " 35,\n",
       " 36,\n",
       " 37,\n",
       " 38,\n",
       " 39,\n",
       " 40,\n",
       " 41,\n",
       " 42,\n",
       " 43,\n",
       " 44,\n",
       " 45,\n",
       " 46,\n",
       " 47,\n",
       " 48,\n",
       " 49]"
      ]
     },
     "execution_count": 6,
     "metadata": {},
     "output_type": "execute_result"
    }
   ],
   "source": [
    "# calling some action \n",
    "bag.compute()"
   ]
  },
  {
   "cell_type": "code",
   "execution_count": 12,
   "id": "e167b7a9-1275-43f1-b892-012ac590ec04",
   "metadata": {},
   "outputs": [
    {
     "ename": "FileNotFoundError",
     "evalue": "[Errno 2] No such file or directory: '/home/ubuntu/logs/log1.txt'",
     "output_type": "error",
     "traceback": [
      "\u001b[31m---------------------------------------------------------------------------\u001b[39m",
      "\u001b[31mFileNotFoundError\u001b[39m                         Traceback (most recent call last)",
      "\u001b[36mCell\u001b[39m\u001b[36m \u001b[39m\u001b[32mIn[12]\u001b[39m\u001b[32m, line 6\u001b[39m\n\u001b[32m      4\u001b[39m filterdata = ashubag.filter(\u001b[38;5;28;01mlambda\u001b[39;00m line: \u001b[33m\"\u001b[39m\u001b[33mERROR\u001b[39m\u001b[33m\"\u001b[39m \u001b[38;5;129;01min\u001b[39;00m line)\n\u001b[32m      5\u001b[39m \u001b[38;5;66;03m# display by compute\u001b[39;00m\n\u001b[32m----> \u001b[39m\u001b[32m6\u001b[39m \u001b[38;5;28mprint\u001b[39m(\u001b[43mfilterdata\u001b[49m\u001b[43m.\u001b[49m\u001b[43mcompute\u001b[49m\u001b[43m(\u001b[49m\u001b[43m)\u001b[49m)\n",
      "\u001b[36mFile \u001b[39m\u001b[32m~/client/lib/python3.12/site-packages/dask/base.py:374\u001b[39m, in \u001b[36mDaskMethodsMixin.compute\u001b[39m\u001b[34m(self, **kwargs)\u001b[39m\n\u001b[32m    350\u001b[39m \u001b[38;5;28;01mdef\u001b[39;00m\u001b[38;5;250m \u001b[39m\u001b[34mcompute\u001b[39m(\u001b[38;5;28mself\u001b[39m, **kwargs):\n\u001b[32m    351\u001b[39m \u001b[38;5;250m    \u001b[39m\u001b[33;03m\"\"\"Compute this dask collection\u001b[39;00m\n\u001b[32m    352\u001b[39m \n\u001b[32m    353\u001b[39m \u001b[33;03m    This turns a lazy Dask collection into its in-memory equivalent.\u001b[39;00m\n\u001b[32m   (...)\u001b[39m\u001b[32m    372\u001b[39m \u001b[33;03m    dask.compute\u001b[39;00m\n\u001b[32m    373\u001b[39m \u001b[33;03m    \"\"\"\u001b[39;00m\n\u001b[32m--> \u001b[39m\u001b[32m374\u001b[39m     (result,) = \u001b[43mcompute\u001b[49m\u001b[43m(\u001b[49m\u001b[38;5;28;43mself\u001b[39;49m\u001b[43m,\u001b[49m\u001b[43m \u001b[49m\u001b[43mtraverse\u001b[49m\u001b[43m=\u001b[49m\u001b[38;5;28;43;01mFalse\u001b[39;49;00m\u001b[43m,\u001b[49m\u001b[43m \u001b[49m\u001b[43m*\u001b[49m\u001b[43m*\u001b[49m\u001b[43mkwargs\u001b[49m\u001b[43m)\u001b[49m\n\u001b[32m    375\u001b[39m     \u001b[38;5;28;01mreturn\u001b[39;00m result\n",
      "\u001b[36mFile \u001b[39m\u001b[32m~/client/lib/python3.12/site-packages/dask/base.py:662\u001b[39m, in \u001b[36mcompute\u001b[39m\u001b[34m(traverse, optimize_graph, scheduler, get, *args, **kwargs)\u001b[39m\n\u001b[32m    659\u001b[39m     postcomputes.append(x.__dask_postcompute__())\n\u001b[32m    661\u001b[39m \u001b[38;5;28;01mwith\u001b[39;00m shorten_traceback():\n\u001b[32m--> \u001b[39m\u001b[32m662\u001b[39m     results = \u001b[43mschedule\u001b[49m\u001b[43m(\u001b[49m\u001b[43mdsk\u001b[49m\u001b[43m,\u001b[49m\u001b[43m \u001b[49m\u001b[43mkeys\u001b[49m\u001b[43m,\u001b[49m\u001b[43m \u001b[49m\u001b[43m*\u001b[49m\u001b[43m*\u001b[49m\u001b[43mkwargs\u001b[49m\u001b[43m)\u001b[49m\n\u001b[32m    664\u001b[39m \u001b[38;5;28;01mreturn\u001b[39;00m repack([f(r, *a) \u001b[38;5;28;01mfor\u001b[39;00m r, (f, a) \u001b[38;5;129;01min\u001b[39;00m \u001b[38;5;28mzip\u001b[39m(results, postcomputes)])\n",
      "\u001b[36mFile \u001b[39m\u001b[32m~/dask-env/lib/python3.12/site-packages/dask/bag/text.py:166\u001b[39m, in \u001b[36mfile_to_blocks\u001b[39m\u001b[34m()\u001b[39m\n",
      "\u001b[36mFile \u001b[39m\u001b[32m~/dask-env/lib/python3.12/site-packages/fsspec/core.py:105\u001b[39m, in \u001b[36m__enter__\u001b[39m\u001b[34m()\u001b[39m\n",
      "\u001b[36mFile \u001b[39m\u001b[32m~/dask-env/lib/python3.12/site-packages/fsspec/spec.py:1310\u001b[39m, in \u001b[36mopen\u001b[39m\u001b[34m()\u001b[39m\n",
      "\u001b[36mFile \u001b[39m\u001b[32m~/dask-env/lib/python3.12/site-packages/fsspec/implementations/local.py:200\u001b[39m, in \u001b[36m_open\u001b[39m\u001b[34m()\u001b[39m\n",
      "\u001b[36mFile \u001b[39m\u001b[32m~/dask-env/lib/python3.12/site-packages/fsspec/implementations/local.py:364\u001b[39m, in \u001b[36m__init__\u001b[39m\u001b[34m()\u001b[39m\n",
      "\u001b[36mFile \u001b[39m\u001b[32m~/dask-env/lib/python3.12/site-packages/fsspec/implementations/local.py:369\u001b[39m, in \u001b[36m_open\u001b[39m\u001b[34m()\u001b[39m\n",
      "\u001b[31mFileNotFoundError\u001b[39m: [Errno 2] No such file or directory: '/home/ubuntu/logs/log1.txt'"
     ]
    }
   ],
   "source": [
    "# reading logs which in text format \n",
    "ashubag = db.read_text(\"./logs/log1.txt\")\n",
    "# filter those lines which is having ERROR keyword\n",
    "filterdata = ashubag.filter(lambda line: \"ERROR\" in line)\n",
    "# display by compute\n",
    "print(filterdata.compute())"
   ]
  },
  {
   "cell_type": "code",
   "execution_count": 9,
   "id": "5c63f90f-b043-47ea-a0cf-1a7e47bcd4a8",
   "metadata": {},
   "outputs": [
    {
     "name": "stdout",
     "output_type": "stream",
     "text": [
      "ERROR: Failed to fetch data from API\n",
      "INFO: Cache cleared successfully\n",
      "DEBUG: Response time is within limits\n",
      "ERROR: User authentication failed\n",
      "DEBUG: Response time is within limits\n",
      "DEBUG: Response time is within limits\n",
      "DEBUG: Response time is within limits\n",
      "INFO: Cache cleared successfully\n",
      "INFO: Cache cleared successfully\n",
      "ERROR: Failed to fetch data from API\n",
      "ERROR: Failed to fetch data from API\n",
      "ERROR: Failed to fetch data from API\n",
      "INFO: Cache cleared successfully\n",
      "INFO: Cache cleared successfully\n",
      "INFO: Cache cleared successfully\n",
      "INFO: Cache cleared successfully\n",
      "DEBUG: Response time is within limits\n",
      "DEBUG: Response time is within limits\n",
      "DEBUG: Response time is within limits\n",
      "DEBUG: Response time is within limits\n",
      "DEBUG: Response time is within limits\n",
      "DEBUG: Response time is within limits\n",
      "DEBUG: Response time is within limits\n",
      "DEBUG: Response time is within limits\n",
      "DEBUG: Response time is within limits\n",
      "DEBUG: Response time is within limits\n",
      "DEBUG: Response time is within limits\n",
      "DEBUG: Response time is within limits\n"
     ]
    }
   ],
   "source": [
    "!cat /home/ubuntu/logs/log2.txt"
   ]
  },
  {
   "cell_type": "code",
   "execution_count": null,
   "id": "3e78d0d7-7fd8-4574-b5bd-4e50fbf04483",
   "metadata": {},
   "outputs": [],
   "source": []
  }
 ],
 "metadata": {
  "kernelspec": {
   "display_name": "Python 3 (ipykernel)",
   "language": "python",
   "name": "python3"
  },
  "language_info": {
   "codemirror_mode": {
    "name": "ipython",
    "version": 3
   },
   "file_extension": ".py",
   "mimetype": "text/x-python",
   "name": "python",
   "nbconvert_exporter": "python",
   "pygments_lexer": "ipython3",
   "version": "3.12.3"
  }
 },
 "nbformat": 4,
 "nbformat_minor": 5
}
