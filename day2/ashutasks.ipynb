{
 "cells": [
  {
   "cell_type": "code",
   "execution_count": 3,
   "id": "4fbfc8b9-f1ad-4465-9551-f20b81b8d5dc",
   "metadata": {},
   "outputs": [
    {
     "name": "stdout",
     "output_type": "stream",
     "text": [
      "<Client: 'tcp://172.31.36.115:8786' processes=2 threads=4, memory=15.50 GiB>\n"
     ]
    }
   ],
   "source": [
    "from dask.distributed import Client\n",
    "# using Client function to connect Scheduler endpoint \n",
    "client = Client(\"tcp://172.31.36.115:8786\")\n",
    "print(client)"
   ]
  },
  {
   "cell_type": "code",
   "execution_count": 5,
   "id": "f0096b8e-72fd-4c36-8328-b859ee631706",
   "metadata": {},
   "outputs": [],
   "source": [
    "import dask.dataframe as dd\n",
    "# loading csv file \n",
    "ddf = dd.read_csv('s3://delvex-software-center/USGS/large_dataset.csv' , storage_options={\"anon\": True})"
   ]
  },
  {
   "cell_type": "code",
   "execution_count": 6,
   "id": "18cf5be3-5f50-420b-82b9-3e2208f1dfbe",
   "metadata": {},
   "outputs": [
    {
     "data": {
      "text/html": [
       "<div>\n",
       "<style scoped>\n",
       "    .dataframe tbody tr th:only-of-type {\n",
       "        vertical-align: middle;\n",
       "    }\n",
       "\n",
       "    .dataframe tbody tr th {\n",
       "        vertical-align: top;\n",
       "    }\n",
       "\n",
       "    .dataframe thead th {\n",
       "        text-align: right;\n",
       "    }\n",
       "</style>\n",
       "<table border=\"1\" class=\"dataframe\">\n",
       "  <thead>\n",
       "    <tr style=\"text-align: right;\">\n",
       "      <th></th>\n",
       "      <th>ID</th>\n",
       "      <th>Name</th>\n",
       "      <th>Age</th>\n",
       "      <th>City</th>\n",
       "      <th>Salary</th>\n",
       "    </tr>\n",
       "  </thead>\n",
       "  <tbody>\n",
       "    <tr>\n",
       "      <th>0</th>\n",
       "      <td>1</td>\n",
       "      <td>Bob</td>\n",
       "      <td>33</td>\n",
       "      <td>Phoenix</td>\n",
       "      <td>104608.15</td>\n",
       "    </tr>\n",
       "    <tr>\n",
       "      <th>1</th>\n",
       "      <td>2</td>\n",
       "      <td>Charlie</td>\n",
       "      <td>25</td>\n",
       "      <td>New York</td>\n",
       "      <td>42922.03</td>\n",
       "    </tr>\n",
       "    <tr>\n",
       "      <th>2</th>\n",
       "      <td>3</td>\n",
       "      <td>Alice</td>\n",
       "      <td>55</td>\n",
       "      <td>Chicago</td>\n",
       "      <td>40155.43</td>\n",
       "    </tr>\n",
       "    <tr>\n",
       "      <th>3</th>\n",
       "      <td>4</td>\n",
       "      <td>Bob</td>\n",
       "      <td>18</td>\n",
       "      <td>Chicago</td>\n",
       "      <td>36625.62</td>\n",
       "    </tr>\n",
       "    <tr>\n",
       "      <th>4</th>\n",
       "      <td>5</td>\n",
       "      <td>Charlie</td>\n",
       "      <td>30</td>\n",
       "      <td>Houston</td>\n",
       "      <td>101225.42</td>\n",
       "    </tr>\n",
       "  </tbody>\n",
       "</table>\n",
       "</div>"
      ],
      "text/plain": [
       "   ID     Name  Age      City     Salary\n",
       "0   1      Bob   33   Phoenix  104608.15\n",
       "1   2  Charlie   25  New York   42922.03\n",
       "2   3    Alice   55   Chicago   40155.43\n",
       "3   4      Bob   18   Chicago   36625.62\n",
       "4   5  Charlie   30   Houston  101225.42"
      ]
     },
     "execution_count": 6,
     "metadata": {},
     "output_type": "execute_result"
    }
   ],
   "source": [
    "# printing head \n",
    "ddf.head()"
   ]
  },
  {
   "cell_type": "code",
   "execution_count": 8,
   "id": "26f8bcb8-364d-4720-824c-c459f5d2bfd5",
   "metadata": {},
   "outputs": [
    {
     "name": "stdout",
     "output_type": "stream",
     "text": [
      "City\n",
      "Chicago        30006.56\n",
      "Houston        30000.02\n",
      "Los Angeles    30003.62\n",
      "New York       30003.23\n",
      "Phoenix        30000.17\n",
      "Name: Salary, dtype: float64\n"
     ]
    }
   ],
   "source": [
    "# calculate average salary by City \n",
    "avg_salbycity = ddf.groupby('City')['Salary'].min()\n",
    "# calling some action function \n",
    "avg_salary = avg_salbycity.compute()\n",
    "print(avg_salary)"
   ]
  },
  {
   "cell_type": "code",
   "execution_count": 9,
   "id": "7cc3a252-ed1f-458e-9c06-a3f9e0a29a4e",
   "metadata": {},
   "outputs": [
    {
     "name": "stdout",
     "output_type": "stream",
     "text": [
      "City\n",
      "Chicago        119999.89\n",
      "Houston        119994.74\n",
      "Los Angeles    119992.94\n",
      "New York       119993.78\n",
      "Phoenix        119999.72\n",
      "Name: Salary, dtype: float64\n"
     ]
    }
   ],
   "source": [
    "# calculate average salary by City \n",
    "max_salbycity = ddf.groupby('City')['Salary'].max()\n",
    "# calling some action function \n",
    "max_salary = max_salbycity.compute()\n",
    "print(max_salary)"
   ]
  },
  {
   "cell_type": "code",
   "execution_count": 10,
   "id": "9469bdae-d0dd-4a3b-a92d-8f1076e19397",
   "metadata": {},
   "outputs": [
    {
     "name": "stdout",
     "output_type": "stream",
     "text": [
      "                  min        max          mean\n",
      "City                                          \n",
      "Phoenix      30000.17  119999.72  75158.256643\n",
      "New York     30003.23  119993.78  75170.690729\n",
      "Chicago      30006.56  119999.89  75034.949588\n",
      "Houston      30000.02  119994.74  74985.787845\n",
      "Los Angeles  30003.62  119992.94  75044.818046\n"
     ]
    }
   ],
   "source": [
    "# if want to print aggregations of salaries\n",
    "agg_salbycity = ddf.groupby('City')['Salary'].agg(['min','max','mean'])\n",
    "agg_salary = agg_salbycity.compute()\n",
    "print(agg_salary)"
   ]
  },
  {
   "cell_type": "code",
   "execution_count": 12,
   "id": "3af0cad6-d3d1-4055-adef-c03f713cb28f",
   "metadata": {},
   "outputs": [
    {
     "name": "stdout",
     "output_type": "stream",
     "text": [
      "          ID   Name  Age         City     Salary\n",
      "2          3  Alice   55      Chicago   40155.43\n",
      "7          8  David   56      Phoenix   87637.78\n",
      "8          9  Alice   40      Phoenix   67813.78\n",
      "9         10    Bob   47      Phoenix   38681.44\n",
      "11        12  Alice   44  Los Angeles  109205.52\n",
      "...      ...    ...  ...          ...        ...\n",
      "99991  99992  David   64     New York  116105.58\n",
      "99992  99993    Eva   37  Los Angeles   70851.86\n",
      "99993  99994    Eva   52      Houston  104017.66\n",
      "99995  99996  Alice   56     New York   32433.29\n",
      "99997  99998    Eva   64      Houston   83727.26\n",
      "\n",
      "[61700 rows x 5 columns]\n"
     ]
    }
   ],
   "source": [
    "# filtering rows having age more 35 years \n",
    "filter1 = ddf[ddf['Age'] > 35 ]\n",
    "peopledata = filter1.compute()\n",
    "print(peopledata)"
   ]
  },
  {
   "cell_type": "code",
   "execution_count": null,
   "id": "65a3781b-2362-4f59-b8f8-df8f5d987b49",
   "metadata": {},
   "outputs": [],
   "source": [
    "# save filterd data into csv file \n",
    "peopledata.to_csv('35yabovepeople.csv',index=True)"
   ]
  }
 ],
 "metadata": {
  "kernelspec": {
   "display_name": "Python 3 (ipykernel)",
   "language": "python",
   "name": "python3"
  },
  "language_info": {
   "codemirror_mode": {
    "name": "ipython",
    "version": 3
   },
   "file_extension": ".py",
   "mimetype": "text/x-python",
   "name": "python",
   "nbconvert_exporter": "python",
   "pygments_lexer": "ipython3",
   "version": "3.12.3"
  }
 },
 "nbformat": 4,
 "nbformat_minor": 5
}
