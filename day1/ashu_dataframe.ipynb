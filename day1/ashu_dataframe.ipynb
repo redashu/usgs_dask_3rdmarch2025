{
 "cells": [
  {
   "cell_type": "code",
   "execution_count": 1,
   "id": "7d626f30-e8f6-4ed9-9587-12dbd10fece9",
   "metadata": {},
   "outputs": [],
   "source": [
    "!source ./ashu-env/bin/activate"
   ]
  },
  {
   "cell_type": "code",
   "execution_count": 2,
   "id": "c8a4ea41-3ee5-41db-842c-90bb1d8b3ab7",
   "metadata": {},
   "outputs": [],
   "source": [
    "# importing python pandas \n",
    "import pandas as pd"
   ]
  },
  {
   "cell_type": "code",
   "execution_count": 3,
   "id": "aaf9e183-19cd-4be7-8a4c-60ca6adf619d",
   "metadata": {},
   "outputs": [
    {
     "name": "stdout",
     "output_type": "stream",
     "text": [
      "   name  age         city\n",
      "0  ashu   27     New York\n",
      "1  luis   35  Los Angeles\n",
      "2  jack   30      chicago\n"
     ]
    }
   ],
   "source": [
    "# creating dataframe\n",
    "ashu_data = {\n",
    "    'name' : ['ashu','luis','jack'],\n",
    "    'age':  [27,35,30],\n",
    "    'city': ['New York','Los Angeles','chicago']\n",
    "}\n",
    "\n",
    "df = pd.DataFrame(ashu_data)\n",
    "print(df)"
   ]
  },
  {
   "cell_type": "code",
   "execution_count": 4,
   "id": "eea658db-8d69-4669-bd01-99bd4ef55ba1",
   "metadata": {},
   "outputs": [
    {
     "name": "stdout",
     "output_type": "stream",
     "text": [
      "   name  age         city\n",
      "0  ashu   27     New York\n",
      "1  luis   35  Los Angeles\n",
      "2  jack   30      chicago\n"
     ]
    }
   ],
   "source": [
    "# basic Operations \n",
    "print(df.head())"
   ]
  },
  {
   "cell_type": "code",
   "execution_count": 5,
   "id": "dbfb85ab-48f2-44a8-b4c6-5674368a4020",
   "metadata": {},
   "outputs": [
    {
     "data": {
      "text/plain": [
       "0    ashu\n",
       "1    luis\n",
       "2    jack\n",
       "Name: name, dtype: object"
      ]
     },
     "execution_count": 5,
     "metadata": {},
     "output_type": "execute_result"
    }
   ],
   "source": [
    "# selecting columns \n",
    "df['name']"
   ]
  },
  {
   "cell_type": "code",
   "execution_count": 6,
   "id": "54d6f3cf-b604-4715-b54c-60a00a342a6a",
   "metadata": {},
   "outputs": [
    {
     "data": {
      "text/html": [
       "<div>\n",
       "<style scoped>\n",
       "    .dataframe tbody tr th:only-of-type {\n",
       "        vertical-align: middle;\n",
       "    }\n",
       "\n",
       "    .dataframe tbody tr th {\n",
       "        vertical-align: top;\n",
       "    }\n",
       "\n",
       "    .dataframe thead th {\n",
       "        text-align: right;\n",
       "    }\n",
       "</style>\n",
       "<table border=\"1\" class=\"dataframe\">\n",
       "  <thead>\n",
       "    <tr style=\"text-align: right;\">\n",
       "      <th></th>\n",
       "      <th>name</th>\n",
       "      <th>age</th>\n",
       "    </tr>\n",
       "  </thead>\n",
       "  <tbody>\n",
       "    <tr>\n",
       "      <th>0</th>\n",
       "      <td>ashu</td>\n",
       "      <td>27</td>\n",
       "    </tr>\n",
       "    <tr>\n",
       "      <th>1</th>\n",
       "      <td>luis</td>\n",
       "      <td>35</td>\n",
       "    </tr>\n",
       "    <tr>\n",
       "      <th>2</th>\n",
       "      <td>jack</td>\n",
       "      <td>30</td>\n",
       "    </tr>\n",
       "  </tbody>\n",
       "</table>\n",
       "</div>"
      ],
      "text/plain": [
       "   name  age\n",
       "0  ashu   27\n",
       "1  luis   35\n",
       "2  jack   30"
      ]
     },
     "execution_count": 6,
     "metadata": {},
     "output_type": "execute_result"
    }
   ],
   "source": [
    "# multiple columns \n",
    "df[['name','age']]"
   ]
  },
  {
   "cell_type": "code",
   "execution_count": 8,
   "id": "e326fe22-f231-434d-b41b-97b1bb516acb",
   "metadata": {},
   "outputs": [
    {
     "data": {
      "text/html": [
       "<div>\n",
       "<style scoped>\n",
       "    .dataframe tbody tr th:only-of-type {\n",
       "        vertical-align: middle;\n",
       "    }\n",
       "\n",
       "    .dataframe tbody tr th {\n",
       "        vertical-align: top;\n",
       "    }\n",
       "\n",
       "    .dataframe thead th {\n",
       "        text-align: right;\n",
       "    }\n",
       "</style>\n",
       "<table border=\"1\" class=\"dataframe\">\n",
       "  <thead>\n",
       "    <tr style=\"text-align: right;\">\n",
       "      <th></th>\n",
       "      <th>name</th>\n",
       "      <th>age</th>\n",
       "      <th>city</th>\n",
       "    </tr>\n",
       "  </thead>\n",
       "  <tbody>\n",
       "    <tr>\n",
       "      <th>1</th>\n",
       "      <td>luis</td>\n",
       "      <td>35</td>\n",
       "      <td>Los Angeles</td>\n",
       "    </tr>\n",
       "  </tbody>\n",
       "</table>\n",
       "</div>"
      ],
      "text/plain": [
       "   name  age         city\n",
       "1  luis   35  Los Angeles"
      ]
     },
     "execution_count": 8,
     "metadata": {},
     "output_type": "execute_result"
    }
   ],
   "source": [
    "df[df['age'] > 30 ]"
   ]
  },
  {
   "cell_type": "code",
   "execution_count": 9,
   "id": "b43b10df-db47-4898-8fec-b1d2443dec93",
   "metadata": {},
   "outputs": [
    {
     "data": {
      "text/html": [
       "<div>\n",
       "<style scoped>\n",
       "    .dataframe tbody tr th:only-of-type {\n",
       "        vertical-align: middle;\n",
       "    }\n",
       "\n",
       "    .dataframe tbody tr th {\n",
       "        vertical-align: top;\n",
       "    }\n",
       "\n",
       "    .dataframe thead th {\n",
       "        text-align: right;\n",
       "    }\n",
       "</style>\n",
       "<table border=\"1\" class=\"dataframe\">\n",
       "  <thead>\n",
       "    <tr style=\"text-align: right;\">\n",
       "      <th></th>\n",
       "      <th>name</th>\n",
       "      <th>age</th>\n",
       "      <th>city</th>\n",
       "      <th>salary</th>\n",
       "    </tr>\n",
       "  </thead>\n",
       "  <tbody>\n",
       "    <tr>\n",
       "      <th>0</th>\n",
       "      <td>ashu</td>\n",
       "      <td>27</td>\n",
       "      <td>New York</td>\n",
       "      <td>80000</td>\n",
       "    </tr>\n",
       "    <tr>\n",
       "      <th>1</th>\n",
       "      <td>luis</td>\n",
       "      <td>35</td>\n",
       "      <td>Los Angeles</td>\n",
       "      <td>65000</td>\n",
       "    </tr>\n",
       "    <tr>\n",
       "      <th>2</th>\n",
       "      <td>jack</td>\n",
       "      <td>30</td>\n",
       "      <td>chicago</td>\n",
       "      <td>70000</td>\n",
       "    </tr>\n",
       "  </tbody>\n",
       "</table>\n",
       "</div>"
      ],
      "text/plain": [
       "   name  age         city  salary\n",
       "0  ashu   27     New York   80000\n",
       "1  luis   35  Los Angeles   65000\n",
       "2  jack   30      chicago   70000"
      ]
     },
     "execution_count": 9,
     "metadata": {},
     "output_type": "execute_result"
    }
   ],
   "source": [
    "# adding column \n",
    "df['salary'] =  [80000,65000,70000]\n",
    "df"
   ]
  },
  {
   "cell_type": "code",
   "execution_count": 10,
   "id": "f68045ec-b77b-4024-aa42-64c8507f0762",
   "metadata": {},
   "outputs": [
    {
     "data": {
      "text/plain": [
       "city\n",
       "Los Angeles    35.0\n",
       "New York       27.0\n",
       "chicago        30.0\n",
       "Name: age, dtype: float64"
      ]
     },
     "execution_count": 10,
     "metadata": {},
     "output_type": "execute_result"
    }
   ],
   "source": [
    "# groupby \n",
    "df.groupby('city')['age'].mean()"
   ]
  },
  {
   "cell_type": "code",
   "execution_count": 3,
   "id": "0b292d63-778b-47dc-9444-0225bd1e2eb4",
   "metadata": {},
   "outputs": [
    {
     "data": {
      "text/html": [
       "<div><strong>Dask DataFrame Structure:</strong></div>\n",
       "<table border=\"1\" class=\"dataframe\">\n",
       "  <thead>\n",
       "    <tr style=\"text-align: right;\">\n",
       "      <th></th>\n",
       "      <th>ID</th>\n",
       "      <th>Name</th>\n",
       "      <th>Age</th>\n",
       "      <th>City</th>\n",
       "      <th>Salary</th>\n",
       "    </tr>\n",
       "    <tr>\n",
       "      <th>npartitions=1</th>\n",
       "      <th></th>\n",
       "      <th></th>\n",
       "      <th></th>\n",
       "      <th></th>\n",
       "      <th></th>\n",
       "    </tr>\n",
       "  </thead>\n",
       "  <tbody>\n",
       "    <tr>\n",
       "      <th></th>\n",
       "      <td>int64</td>\n",
       "      <td>string</td>\n",
       "      <td>int64</td>\n",
       "      <td>string</td>\n",
       "      <td>float64</td>\n",
       "    </tr>\n",
       "    <tr>\n",
       "      <th></th>\n",
       "      <td>...</td>\n",
       "      <td>...</td>\n",
       "      <td>...</td>\n",
       "      <td>...</td>\n",
       "      <td>...</td>\n",
       "    </tr>\n",
       "  </tbody>\n",
       "</table>\n",
       "<div>Dask Name: to_string_dtype, 2 expressions</div>"
      ],
      "text/plain": [
       "Dask DataFrame Structure:\n",
       "                  ID    Name    Age    City   Salary\n",
       "npartitions=1                                       \n",
       "               int64  string  int64  string  float64\n",
       "                 ...     ...    ...     ...      ...\n",
       "Dask Name: to_string_dtype, 2 expressions\n",
       "Expr=ArrowStringConversion(frame=FromMapProjectable(5950c4c))"
      ]
     },
     "execution_count": 3,
     "metadata": {},
     "output_type": "execute_result"
    }
   ],
   "source": [
    "# Starting using dask dataframe \n",
    "import dask.dataframe as dd\n",
    "df2 = dd.read_csv('https://raw.githubusercontent.com/redashu/Datasets/refs/heads/master/large_dataset.csv')\n",
    "df2"
   ]
  },
  {
   "cell_type": "code",
   "execution_count": 4,
   "id": "db820df2-7d84-49c2-bd68-8a8974ad0140",
   "metadata": {},
   "outputs": [
    {
     "name": "stdout",
     "output_type": "stream",
     "text": [
      "Dask DataFrame Structure:\n",
      "                  ID    Name    Age    City   Salary\n",
      "npartitions=1                                       \n",
      "               int64  string  int64  string  float64\n",
      "                 ...     ...    ...     ...      ...\n",
      "Dask Name: to_string_dtype, 2 expressions\n",
      "Expr=ArrowStringConversion(frame=FromMapProjectable(5950c4c))\n"
     ]
    }
   ],
   "source": [
    "# printing this info \n",
    "print(df2)"
   ]
  },
  {
   "cell_type": "code",
   "execution_count": 5,
   "id": "74850fd7-2faf-468c-9eda-b7e5eb6e0174",
   "metadata": {},
   "outputs": [
    {
     "data": {
      "text/html": [
       "<div>\n",
       "<style scoped>\n",
       "    .dataframe tbody tr th:only-of-type {\n",
       "        vertical-align: middle;\n",
       "    }\n",
       "\n",
       "    .dataframe tbody tr th {\n",
       "        vertical-align: top;\n",
       "    }\n",
       "\n",
       "    .dataframe thead th {\n",
       "        text-align: right;\n",
       "    }\n",
       "</style>\n",
       "<table border=\"1\" class=\"dataframe\">\n",
       "  <thead>\n",
       "    <tr style=\"text-align: right;\">\n",
       "      <th></th>\n",
       "      <th>ID</th>\n",
       "      <th>Name</th>\n",
       "      <th>Age</th>\n",
       "      <th>City</th>\n",
       "      <th>Salary</th>\n",
       "    </tr>\n",
       "  </thead>\n",
       "  <tbody>\n",
       "    <tr>\n",
       "      <th>0</th>\n",
       "      <td>1</td>\n",
       "      <td>Bob</td>\n",
       "      <td>33</td>\n",
       "      <td>Phoenix</td>\n",
       "      <td>104608.15</td>\n",
       "    </tr>\n",
       "    <tr>\n",
       "      <th>1</th>\n",
       "      <td>2</td>\n",
       "      <td>Charlie</td>\n",
       "      <td>25</td>\n",
       "      <td>New York</td>\n",
       "      <td>42922.03</td>\n",
       "    </tr>\n",
       "    <tr>\n",
       "      <th>2</th>\n",
       "      <td>3</td>\n",
       "      <td>Alice</td>\n",
       "      <td>55</td>\n",
       "      <td>Chicago</td>\n",
       "      <td>40155.43</td>\n",
       "    </tr>\n",
       "    <tr>\n",
       "      <th>3</th>\n",
       "      <td>4</td>\n",
       "      <td>Bob</td>\n",
       "      <td>18</td>\n",
       "      <td>Chicago</td>\n",
       "      <td>36625.62</td>\n",
       "    </tr>\n",
       "    <tr>\n",
       "      <th>4</th>\n",
       "      <td>5</td>\n",
       "      <td>Charlie</td>\n",
       "      <td>30</td>\n",
       "      <td>Houston</td>\n",
       "      <td>101225.42</td>\n",
       "    </tr>\n",
       "  </tbody>\n",
       "</table>\n",
       "</div>"
      ],
      "text/plain": [
       "   ID     Name  Age      City     Salary\n",
       "0   1      Bob   33   Phoenix  104608.15\n",
       "1   2  Charlie   25  New York   42922.03\n",
       "2   3    Alice   55   Chicago   40155.43\n",
       "3   4      Bob   18   Chicago   36625.62\n",
       "4   5  Charlie   30   Houston  101225.42"
      ]
     },
     "execution_count": 5,
     "metadata": {},
     "output_type": "execute_result"
    }
   ],
   "source": [
    "# print top 5 rows\n",
    "df2.head()"
   ]
  },
  {
   "cell_type": "code",
   "execution_count": 6,
   "id": "393e41d1-def7-4c20-9e39-81ec5b7090f8",
   "metadata": {},
   "outputs": [
    {
     "data": {
      "text/plain": [
       "1"
      ]
     },
     "execution_count": 6,
     "metadata": {},
     "output_type": "execute_result"
    }
   ],
   "source": [
    "# default checking number of partitions \n",
    "df2.npartitions"
   ]
  },
  {
   "cell_type": "code",
   "execution_count": 8,
   "id": "be2bc20f-0641-437e-812c-cd7472523157",
   "metadata": {},
   "outputs": [],
   "source": [
    "# Filtering rows\n",
    "filter_output = df2[df2['Age'] >35]"
   ]
  },
  {
   "cell_type": "code",
   "execution_count": 9,
   "id": "a62c3212-e2c8-450a-ac88-945a27250efc",
   "metadata": {},
   "outputs": [
    {
     "name": "stdout",
     "output_type": "stream",
     "text": [
      "Dask DataFrame Structure:\n",
      "                  ID    Name    Age    City   Salary\n",
      "npartitions=1                                       \n",
      "               int64  string  int64  string  float64\n",
      "                 ...     ...    ...     ...      ...\n",
      "Dask Name: getitem, 5 expressions\n",
      "Expr=Filter(frame=ArrowStringConversion(frame=FromMapProjectable(5950c4c)), predicate=ArrowStringConversion(frame=FromMapProjectable(5950c4c))['Age'] > 35)\n"
     ]
    }
   ],
   "source": [
    "print(filter_output)"
   ]
  },
  {
   "cell_type": "code",
   "execution_count": 11,
   "id": "97d210fb-52bb-48af-b1b7-a9cb216d5fe8",
   "metadata": {},
   "outputs": [],
   "source": [
    "# use group by \n",
    "ashu_group = df2.groupby('City')['Age'].mean()"
   ]
  },
  {
   "cell_type": "code",
   "execution_count": 12,
   "id": "ede363ff-6ea2-4d27-b7cf-2c54d02bb929",
   "metadata": {},
   "outputs": [
    {
     "name": "stdout",
     "output_type": "stream",
     "text": [
      "Dask Series Structure:\n",
      "npartitions=1\n",
      "    float64\n",
      "        ...\n",
      "Dask Name: getitem, 5 expressions\n",
      "Expr=((ArrowStringConversion(frame=FromMapProjectable(5950c4c))[['Age', 'City']]).mean(observed=False, chunk_kwargs={'numeric_only': False}, aggregate_kwargs={'numeric_only': False}, _slice='Age'))['Age']\n"
     ]
    }
   ],
   "source": [
    "print(ashu_group)"
   ]
  },
  {
   "cell_type": "code",
   "execution_count": 13,
   "id": "d62b3976-5651-471d-84b1-3a90ab05db8f",
   "metadata": {},
   "outputs": [
    {
     "data": {
      "text/html": [
       "<div>\n",
       "<style scoped>\n",
       "    .dataframe tbody tr th:only-of-type {\n",
       "        vertical-align: middle;\n",
       "    }\n",
       "\n",
       "    .dataframe tbody tr th {\n",
       "        vertical-align: top;\n",
       "    }\n",
       "\n",
       "    .dataframe thead th {\n",
       "        text-align: right;\n",
       "    }\n",
       "</style>\n",
       "<table border=\"1\" class=\"dataframe\">\n",
       "  <thead>\n",
       "    <tr style=\"text-align: right;\">\n",
       "      <th></th>\n",
       "      <th>ID</th>\n",
       "      <th>Name</th>\n",
       "      <th>Age</th>\n",
       "      <th>City</th>\n",
       "      <th>Salary</th>\n",
       "    </tr>\n",
       "  </thead>\n",
       "  <tbody>\n",
       "    <tr>\n",
       "      <th>2</th>\n",
       "      <td>3</td>\n",
       "      <td>Alice</td>\n",
       "      <td>55</td>\n",
       "      <td>Chicago</td>\n",
       "      <td>40155.43</td>\n",
       "    </tr>\n",
       "    <tr>\n",
       "      <th>7</th>\n",
       "      <td>8</td>\n",
       "      <td>David</td>\n",
       "      <td>56</td>\n",
       "      <td>Phoenix</td>\n",
       "      <td>87637.78</td>\n",
       "    </tr>\n",
       "    <tr>\n",
       "      <th>8</th>\n",
       "      <td>9</td>\n",
       "      <td>Alice</td>\n",
       "      <td>40</td>\n",
       "      <td>Phoenix</td>\n",
       "      <td>67813.78</td>\n",
       "    </tr>\n",
       "    <tr>\n",
       "      <th>9</th>\n",
       "      <td>10</td>\n",
       "      <td>Bob</td>\n",
       "      <td>47</td>\n",
       "      <td>Phoenix</td>\n",
       "      <td>38681.44</td>\n",
       "    </tr>\n",
       "    <tr>\n",
       "      <th>11</th>\n",
       "      <td>12</td>\n",
       "      <td>Alice</td>\n",
       "      <td>44</td>\n",
       "      <td>Los Angeles</td>\n",
       "      <td>109205.52</td>\n",
       "    </tr>\n",
       "    <tr>\n",
       "      <th>...</th>\n",
       "      <td>...</td>\n",
       "      <td>...</td>\n",
       "      <td>...</td>\n",
       "      <td>...</td>\n",
       "      <td>...</td>\n",
       "    </tr>\n",
       "    <tr>\n",
       "      <th>99991</th>\n",
       "      <td>99992</td>\n",
       "      <td>David</td>\n",
       "      <td>64</td>\n",
       "      <td>New York</td>\n",
       "      <td>116105.58</td>\n",
       "    </tr>\n",
       "    <tr>\n",
       "      <th>99992</th>\n",
       "      <td>99993</td>\n",
       "      <td>Eva</td>\n",
       "      <td>37</td>\n",
       "      <td>Los Angeles</td>\n",
       "      <td>70851.86</td>\n",
       "    </tr>\n",
       "    <tr>\n",
       "      <th>99993</th>\n",
       "      <td>99994</td>\n",
       "      <td>Eva</td>\n",
       "      <td>52</td>\n",
       "      <td>Houston</td>\n",
       "      <td>104017.66</td>\n",
       "    </tr>\n",
       "    <tr>\n",
       "      <th>99995</th>\n",
       "      <td>99996</td>\n",
       "      <td>Alice</td>\n",
       "      <td>56</td>\n",
       "      <td>New York</td>\n",
       "      <td>32433.29</td>\n",
       "    </tr>\n",
       "    <tr>\n",
       "      <th>99997</th>\n",
       "      <td>99998</td>\n",
       "      <td>Eva</td>\n",
       "      <td>64</td>\n",
       "      <td>Houston</td>\n",
       "      <td>83727.26</td>\n",
       "    </tr>\n",
       "  </tbody>\n",
       "</table>\n",
       "<p>61700 rows × 5 columns</p>\n",
       "</div>"
      ],
      "text/plain": [
       "          ID   Name  Age         City     Salary\n",
       "2          3  Alice   55      Chicago   40155.43\n",
       "7          8  David   56      Phoenix   87637.78\n",
       "8          9  Alice   40      Phoenix   67813.78\n",
       "9         10    Bob   47      Phoenix   38681.44\n",
       "11        12  Alice   44  Los Angeles  109205.52\n",
       "...      ...    ...  ...          ...        ...\n",
       "99991  99992  David   64     New York  116105.58\n",
       "99992  99993    Eva   37  Los Angeles   70851.86\n",
       "99993  99994    Eva   52      Houston  104017.66\n",
       "99995  99996  Alice   56     New York   32433.29\n",
       "99997  99998    Eva   64      Houston   83727.26\n",
       "\n",
       "[61700 rows x 5 columns]"
      ]
     },
     "execution_count": 13,
     "metadata": {},
     "output_type": "execute_result"
    }
   ],
   "source": [
    "# calling action funcation \n",
    "filter_output.compute()"
   ]
  },
  {
   "cell_type": "code",
   "execution_count": 14,
   "id": "354ccc9d-995d-4733-8d53-9bef18603998",
   "metadata": {},
   "outputs": [
    {
     "data": {
      "text/plain": [
       "City\n",
       "Chicago        41.056368\n",
       "Houston        40.974150\n",
       "Los Angeles    41.013196\n",
       "New York       40.943020\n",
       "Phoenix        41.023580\n",
       "Name: Age, dtype: float64"
      ]
     },
     "execution_count": 14,
     "metadata": {},
     "output_type": "execute_result"
    }
   ],
   "source": [
    "ashu_group.compute()"
   ]
  },
  {
   "cell_type": "code",
   "execution_count": 15,
   "id": "917f6d1c-2774-4dbd-a6c5-9bb1451b4f95",
   "metadata": {},
   "outputs": [],
   "source": [
    "# save output of compute results \n",
    "filter_new1 = filter_output.compute()"
   ]
  },
  {
   "cell_type": "code",
   "execution_count": null,
   "id": "412dcbed-ca18-423c-b476-30366ce25b84",
   "metadata": {},
   "outputs": [],
   "source": [
    "filter_new1.to"
   ]
  }
 ],
 "metadata": {
  "kernelspec": {
   "display_name": "Python 3 (ipykernel)",
   "language": "python",
   "name": "python3"
  },
  "language_info": {
   "codemirror_mode": {
    "name": "ipython",
    "version": 3
   },
   "file_extension": ".py",
   "mimetype": "text/x-python",
   "name": "python",
   "nbconvert_exporter": "python",
   "pygments_lexer": "ipython3",
   "version": "3.10.12"
  }
 },
 "nbformat": 4,
 "nbformat_minor": 5
}
