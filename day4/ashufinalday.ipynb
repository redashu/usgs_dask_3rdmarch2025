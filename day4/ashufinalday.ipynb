{
 "cells": [
  {
   "cell_type": "code",
   "execution_count": 1,
   "id": "954592b6-90e8-46d0-b889-0ce6d19ebd34",
   "metadata": {},
   "outputs": [
    {
     "name": "stdout",
     "output_type": "stream",
     "text": [
      "<Client: 'tcp://172.31.36.115:8786' processes=8 threads=10, memory=27.01 GiB>\n"
     ]
    }
   ],
   "source": [
    "from dask.distributed import Client\n",
    "import dask.bag as db \n",
    "client = Client(\"tcp://172.31.36.115:8786\")\n",
    "print(client)"
   ]
  },
  {
   "cell_type": "code",
   "execution_count": 2,
   "id": "3895051b-b2aa-49ef-9ecf-955fdec023a5",
   "metadata": {},
   "outputs": [],
   "source": [
    "# reading data from s3 \n",
    "s3_path = \"s3://delvex-software-center/USGS/logs/*.txt\"\n",
    "bag = db.read_text(s3_path , storage_options={\"anon\": True})"
   ]
  },
  {
   "cell_type": "code",
   "execution_count": 3,
   "id": "bcb205c3-9461-44ed-b32f-8037e0b6c797",
   "metadata": {},
   "outputs": [],
   "source": [
    "# calling some funcation in dask to store data in Memory after first read then use it from there\n",
    "bag = bag.persist()"
   ]
  },
  {
   "cell_type": "code",
   "execution_count": 4,
   "id": "13345d3f-bc2d-4ebb-b600-7ef93c060e8a",
   "metadata": {},
   "outputs": [
    {
     "name": "stdout",
     "output_type": "stream",
     "text": [
      "printing final word counts \n",
      "[('INFO:', 31), ('User', 2), ('logged', 1), ('in', 18), ('successfully', 8), ('ERROR:', 14), ('Database', 4), ('connection', 4), ('failed', 5), ('WARNING:', 25), ('Memory', 11), ('usage', 11), ('is', 27), ('high', 11), ('Request', 16), ('completed', 16), ('120ms', 16), ('Failed', 4), ('to', 4), ('fetch', 4), ('data', 4), ('from', 4), ('API', 4), ('Cache', 7), ('cleared', 7), ('DEBUG:', 16), ('Response', 16), ('time', 16), ('within', 16), ('limits', 16), ('authentication', 1), ('Background', 6), ('job', 6), ('started', 6), ('Disk', 5), ('quota', 5), ('exceeded', 5), ('Low', 14), ('disk', 14), ('space', 14), ('Scheduled', 1), ('maintenance', 1), ('progress', 1)]\n"
     ]
    }
   ],
   "source": [
    "# calling multi operations \n",
    "words = bag.map(lambda line: line.split())\n",
    "words2 = words.flatten()\n",
    "ashu_wc = words2.frequencies()\n",
    "print(\"printing final word counts \")\n",
    "print(ashu_wc.compute()) # final reading data to process"
   ]
  },
  {
   "cell_type": "code",
   "execution_count": null,
   "id": "1081f9d8-1458-454f-9547-40cb0bcfb184",
   "metadata": {},
   "outputs": [],
   "source": []
  }
 ],
 "metadata": {
  "kernelspec": {
   "display_name": "Python 3 (ipykernel)",
   "language": "python",
   "name": "python3"
  },
  "language_info": {
   "codemirror_mode": {
    "name": "ipython",
    "version": 3
   },
   "file_extension": ".py",
   "mimetype": "text/x-python",
   "name": "python",
   "nbconvert_exporter": "python",
   "pygments_lexer": "ipython3",
   "version": "3.12.3"
  }
 },
 "nbformat": 4,
 "nbformat_minor": 5
}
