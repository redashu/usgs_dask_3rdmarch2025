{
 "cells": [
  {
   "cell_type": "code",
   "execution_count": 8,
   "id": "8063d589-287f-4248-93e0-84b92d847268",
   "metadata": {},
   "outputs": [
    {
     "name": "stdout",
     "output_type": "stream",
     "text": [
      "<Client: 'tcp://172.31.36.115:8786' processes=8 threads=10, memory=27.01 GiB>\n"
     ]
    }
   ],
   "source": [
    "from dask.distributed import Client\n",
    "client = Client(\"tcp://172.31.36.115:8786\")\n",
    "print(client)"
   ]
  },
  {
   "cell_type": "code",
   "execution_count": 9,
   "id": "7f32c6a3-1c9c-45dd-a5cc-ed7af5f43f64",
   "metadata": {},
   "outputs": [
    {
     "data": {
      "text/html": [
       "<div>\n",
       "<style scoped>\n",
       "    .dataframe tbody tr th:only-of-type {\n",
       "        vertical-align: middle;\n",
       "    }\n",
       "\n",
       "    .dataframe tbody tr th {\n",
       "        vertical-align: top;\n",
       "    }\n",
       "\n",
       "    .dataframe thead th {\n",
       "        text-align: right;\n",
       "    }\n",
       "</style>\n",
       "<table border=\"1\" class=\"dataframe\">\n",
       "  <thead>\n",
       "    <tr style=\"text-align: right;\">\n",
       "      <th></th>\n",
       "      <th>TV</th>\n",
       "      <th>Radio</th>\n",
       "      <th>Newspaper</th>\n",
       "      <th>Sales</th>\n",
       "    </tr>\n",
       "  </thead>\n",
       "  <tbody>\n",
       "    <tr>\n",
       "      <th>0</th>\n",
       "      <td>230.1</td>\n",
       "      <td>37.8</td>\n",
       "      <td>69.2</td>\n",
       "      <td>22.1</td>\n",
       "    </tr>\n",
       "    <tr>\n",
       "      <th>1</th>\n",
       "      <td>44.5</td>\n",
       "      <td>39.3</td>\n",
       "      <td>45.1</td>\n",
       "      <td>10.4</td>\n",
       "    </tr>\n",
       "    <tr>\n",
       "      <th>2</th>\n",
       "      <td>17.2</td>\n",
       "      <td>45.9</td>\n",
       "      <td>69.3</td>\n",
       "      <td>12.0</td>\n",
       "    </tr>\n",
       "    <tr>\n",
       "      <th>3</th>\n",
       "      <td>151.5</td>\n",
       "      <td>41.3</td>\n",
       "      <td>58.5</td>\n",
       "      <td>16.5</td>\n",
       "    </tr>\n",
       "    <tr>\n",
       "      <th>4</th>\n",
       "      <td>180.8</td>\n",
       "      <td>10.8</td>\n",
       "      <td>58.4</td>\n",
       "      <td>17.9</td>\n",
       "    </tr>\n",
       "  </tbody>\n",
       "</table>\n",
       "</div>"
      ],
      "text/plain": [
       "      TV  Radio  Newspaper  Sales\n",
       "0  230.1   37.8       69.2   22.1\n",
       "1   44.5   39.3       45.1   10.4\n",
       "2   17.2   45.9       69.3   12.0\n",
       "3  151.5   41.3       58.5   16.5\n",
       "4  180.8   10.8       58.4   17.9"
      ]
     },
     "execution_count": 9,
     "metadata": {},
     "output_type": "execute_result"
    }
   ],
   "source": [
    "import dask.dataframe as dd \n",
    "import time \n",
    "# loading data using pandas df \n",
    "df = dd.read_csv(\"https://raw.githubusercontent.com/redashu/Datasets/refs/heads/master/advertising.csv\")\n",
    "df.head()"
   ]
  },
  {
   "cell_type": "code",
   "execution_count": 11,
   "id": "c6fa423d-132e-4b1a-aa1c-39af6220b1df",
   "metadata": {},
   "outputs": [
    {
     "name": "stdout",
     "output_type": "stream",
     "text": [
      "Time take with Shuffling : 0.0670 seconds\n",
      "TV\n",
      "0.7       1.6\n",
      "4.1       3.2\n",
      "5.4       5.3\n",
      "7.3       5.5\n",
      "7.8       6.6\n",
      "         ... \n",
      "289.7    25.4\n",
      "290.7    17.8\n",
      "292.9    21.4\n",
      "293.6    20.7\n",
      "296.4    23.8\n",
      "Name: Sales, Length: 190, dtype: float64\n"
     ]
    }
   ],
   "source": [
    "# using shufflling and check time to process this data \n",
    "start_time = time.time()\n",
    "result1 = df.groupby('TV')['Sales'].mean().compute()\n",
    "end_time = time.time()\n",
    "# print timers \n",
    "print(f\"Time take with Shuffling : {end_time - start_time:.4f} seconds\")\n",
    "print(result1)"
   ]
  },
  {
   "cell_type": "code",
   "execution_count": 10,
   "id": "4e49a79c-4c05-4815-a651-96e95af4d8b6",
   "metadata": {},
   "outputs": [
    {
     "name": "stdout",
     "output_type": "stream",
     "text": [
      "Time take with Shuffling : 0.1086 seconds\n",
      "TV\n",
      "0.7       1.6\n",
      "4.1       3.2\n",
      "5.4       5.3\n",
      "7.3       5.5\n",
      "7.8       6.6\n",
      "         ... \n",
      "289.7    25.4\n",
      "290.7    17.8\n",
      "292.9    21.4\n",
      "293.6    20.7\n",
      "296.4    23.8\n",
      "Name: Sales, Length: 190, dtype: float64\n"
     ]
    }
   ],
   "source": [
    "# without shuffling \n",
    "start_time1 = time.time()\n",
    "df_sorted = df.set_index('TV', sorted=True)\n",
    "result2 = df_sorted.groupby('TV')['Sales'].mean().compute()\n",
    "end_time1 = time.time()\n",
    "# print timers \n",
    "print(f\"Time take with Shuffling : {end_time1 - start_time1:.4f} seconds\")\n",
    "print(result2)\n"
   ]
  },
  {
   "cell_type": "code",
   "execution_count": null,
   "id": "faf4e515-5339-4c69-8a38-318abc653337",
   "metadata": {},
   "outputs": [],
   "source": []
  }
 ],
 "metadata": {
  "kernelspec": {
   "display_name": "Python 3 (ipykernel)",
   "language": "python",
   "name": "python3"
  },
  "language_info": {
   "codemirror_mode": {
    "name": "ipython",
    "version": 3
   },
   "file_extension": ".py",
   "mimetype": "text/x-python",
   "name": "python",
   "nbconvert_exporter": "python",
   "pygments_lexer": "ipython3",
   "version": "3.12.3"
  }
 },
 "nbformat": 4,
 "nbformat_minor": 5
}
