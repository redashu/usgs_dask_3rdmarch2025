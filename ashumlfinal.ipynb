{
 "cells": [
  {
   "cell_type": "code",
   "execution_count": 1,
   "id": "b560a35e-dec1-4936-b2f3-a641fcf40b76",
   "metadata": {},
   "outputs": [
    {
     "name": "stdout",
     "output_type": "stream",
     "text": [
      "<Client: 'tcp://172.31.36.115:8786' processes=8 threads=10, memory=27.01 GiB>\n"
     ]
    }
   ],
   "source": [
    "from dask.distributed import Client\n",
    "client = Client(\"tcp://172.31.36.115:8786\")\n",
    "print(client)"
   ]
  },
  {
   "cell_type": "code",
   "execution_count": 8,
   "id": "65230d37-5bf4-46a4-8d5d-eb3d1166e98a",
   "metadata": {},
   "outputs": [],
   "source": [
    "import dask.dataframe as dd\n",
    "from dask_ml.model_selection import train_test_split\n",
    "from dask_ml.linear_model import LinearRegression"
   ]
  },
  {
   "cell_type": "code",
   "execution_count": 4,
   "id": "6fcfbff6-93c1-42a2-ab17-a7d151ac6a64",
   "metadata": {},
   "outputs": [
    {
     "data": {
      "text/html": [
       "<div>\n",
       "<style scoped>\n",
       "    .dataframe tbody tr th:only-of-type {\n",
       "        vertical-align: middle;\n",
       "    }\n",
       "\n",
       "    .dataframe tbody tr th {\n",
       "        vertical-align: top;\n",
       "    }\n",
       "\n",
       "    .dataframe thead th {\n",
       "        text-align: right;\n",
       "    }\n",
       "</style>\n",
       "<table border=\"1\" class=\"dataframe\">\n",
       "  <thead>\n",
       "    <tr style=\"text-align: right;\">\n",
       "      <th></th>\n",
       "      <th>TV</th>\n",
       "      <th>Radio</th>\n",
       "      <th>Newspaper</th>\n",
       "      <th>Sales</th>\n",
       "    </tr>\n",
       "  </thead>\n",
       "  <tbody>\n",
       "    <tr>\n",
       "      <th>0</th>\n",
       "      <td>230.1</td>\n",
       "      <td>37.8</td>\n",
       "      <td>69.2</td>\n",
       "      <td>22.1</td>\n",
       "    </tr>\n",
       "    <tr>\n",
       "      <th>1</th>\n",
       "      <td>44.5</td>\n",
       "      <td>39.3</td>\n",
       "      <td>45.1</td>\n",
       "      <td>10.4</td>\n",
       "    </tr>\n",
       "    <tr>\n",
       "      <th>2</th>\n",
       "      <td>17.2</td>\n",
       "      <td>45.9</td>\n",
       "      <td>69.3</td>\n",
       "      <td>12.0</td>\n",
       "    </tr>\n",
       "    <tr>\n",
       "      <th>3</th>\n",
       "      <td>151.5</td>\n",
       "      <td>41.3</td>\n",
       "      <td>58.5</td>\n",
       "      <td>16.5</td>\n",
       "    </tr>\n",
       "    <tr>\n",
       "      <th>4</th>\n",
       "      <td>180.8</td>\n",
       "      <td>10.8</td>\n",
       "      <td>58.4</td>\n",
       "      <td>17.9</td>\n",
       "    </tr>\n",
       "  </tbody>\n",
       "</table>\n",
       "</div>"
      ],
      "text/plain": [
       "      TV  Radio  Newspaper  Sales\n",
       "0  230.1   37.8       69.2   22.1\n",
       "1   44.5   39.3       45.1   10.4\n",
       "2   17.2   45.9       69.3   12.0\n",
       "3  151.5   41.3       58.5   16.5\n",
       "4  180.8   10.8       58.4   17.9"
      ]
     },
     "execution_count": 4,
     "metadata": {},
     "output_type": "execute_result"
    }
   ],
   "source": [
    "# reading data \n",
    "ddf = dd.read_csv(\"https://raw.githubusercontent.com/redashu/Datasets/refs/heads/master/advertising.csv\")\n",
    "ddf.head()"
   ]
  },
  {
   "cell_type": "code",
   "execution_count": 10,
   "id": "4353f99f-2a3f-483b-834f-67750e097c01",
   "metadata": {},
   "outputs": [],
   "source": [
    "# choosing features and labels -- input and output \n",
    "labels = ddf['Sales']\n",
    "features = ddf[['TV','Radio','Newspaper']]\n",
    "#print(labels)\n",
    "#print(features)\n",
    "feature1=features.to_dask_array(lengths=True)\n",
    "labels1=labels.to_dask_array(lengths=True)"
   ]
  },
  {
   "cell_type": "code",
   "execution_count": 11,
   "id": "f7379bcc-6e65-4fdf-9c24-87d1d77594d6",
   "metadata": {},
   "outputs": [],
   "source": [
    "# Spliting data into Training and testing \n",
    "training_features,test_features,training_labels,test_labels=train_test_split(feature1,labels1,test_size=0.1)"
   ]
  },
  {
   "cell_type": "code",
   "execution_count": 12,
   "id": "509b7b29-0c91-410e-9368-b47fee124f26",
   "metadata": {},
   "outputs": [],
   "source": [
    "# lets calling Linear Regression Model \n",
    "model = LinearRegression()\n",
    "# lets give Training data -- 90% features and labels\n",
    "trained_model=model.fit(training_features,training_labels)"
   ]
  },
  {
   "cell_type": "code",
   "execution_count": 14,
   "id": "c47c86b8-f1a3-4666-9a68-7cb8a04f29d2",
   "metadata": {},
   "outputs": [
    {
     "name": "stdout",
     "output_type": "stream",
     "text": [
      "[12.19618662 17.85697236 10.49368551 14.76337193 17.77275437  9.22528959\n",
      " 13.07054351 10.34788518 11.08455282 21.46034846 20.20459459  9.51746104\n",
      " 20.11078292  9.07635896 19.27632623 18.52505663 14.62377404 20.68245839\n",
      " 10.8976999  15.78986983]\n"
     ]
    }
   ],
   "source": [
    "# pass model to testing features see the outcome \n",
    "predicted_output=trained_model.predict(test_features)\n",
    "print(predicted_output.compute())"
   ]
  },
  {
   "cell_type": "code",
   "execution_count": null,
   "id": "b31f8a42-7784-4324-82ab-7240b2d23ff5",
   "metadata": {},
   "outputs": [],
   "source": []
  }
 ],
 "metadata": {
  "kernelspec": {
   "display_name": "Python 3 (ipykernel)",
   "language": "python",
   "name": "python3"
  },
  "language_info": {
   "codemirror_mode": {
    "name": "ipython",
    "version": 3
   },
   "file_extension": ".py",
   "mimetype": "text/x-python",
   "name": "python",
   "nbconvert_exporter": "python",
   "pygments_lexer": "ipython3",
   "version": "3.12.3"
  }
 },
 "nbformat": 4,
 "nbformat_minor": 5
}
